{
 "cells": [
  {
   "cell_type": "markdown",
   "metadata": {
    "editable": true
   },
   "source": [
    "# Part I. ETL Pipeline for Pre-Processing the Files"
   ]
  },
  {
   "cell_type": "markdown",
   "metadata": {
    "editable": true
   },
   "source": [
    "## PLEASE RUN THE FOLLOWING CODE FOR PRE-PROCESSING THE FILES"
   ]
  },
  {
   "cell_type": "markdown",
   "metadata": {
    "editable": true
   },
   "source": [
    "Install necessary library"
   ]
  },
  {
   "cell_type": "code",
   "execution_count": 15,
   "metadata": {
    "editable": true
   },
   "outputs": [
    {
     "name": "stdout",
     "output_type": "stream",
     "text": [
      "Collecting PTable\n",
      "  Downloading https://files.pythonhosted.org/packages/ab/b3/b54301811173ca94119eb474634f120a49cd370f257d1aae5a4abaf12729/PTable-0.9.2.tar.gz\n",
      "Building wheels for collected packages: PTable\n",
      "  Running setup.py bdist_wheel for PTable ... \u001b[?25ldone\n",
      "\u001b[?25h  Stored in directory: /root/.cache/pip/wheels/22/cc/2e/55980bfe86393df3e9896146a01f6802978d09d7ebcba5ea56\n",
      "Successfully built PTable\n",
      "Installing collected packages: PTable\n",
      "Successfully installed PTable-0.9.2\n"
     ]
    }
   ],
   "source": [
    "!pip3 install PTable"
   ]
  },
  {
   "cell_type": "markdown",
   "metadata": {
    "editable": true
   },
   "source": [
    "#### Import Python packages "
   ]
  },
  {
   "cell_type": "code",
   "execution_count": 1,
   "metadata": {
    "editable": true
   },
   "outputs": [],
   "source": [
    "# Import Python packages \n",
    "import pandas as pd\n",
    "import cassandra\n",
    "import re\n",
    "import os\n",
    "import glob\n",
    "import numpy as np\n",
    "import json\n",
    "import csv\n",
    "from prettytable import PrettyTable"
   ]
  },
  {
   "cell_type": "markdown",
   "metadata": {
    "editable": true
   },
   "source": [
    "#### Creating list of filepaths to process original event csv data files"
   ]
  },
  {
   "cell_type": "code",
   "execution_count": 2,
   "metadata": {
    "editable": true
   },
   "outputs": [
    {
     "name": "stdout",
     "output_type": "stream",
     "text": [
      "/home/workspace\n",
      "['/home/workspace/event_data/2018-11-27-events.csv', '/home/workspace/event_data/2018-11-04-events.csv', '/home/workspace/event_data/2018-11-07-events.csv', '/home/workspace/event_data/2018-11-09-events.csv', '/home/workspace/event_data/2018-11-19-events.csv', '/home/workspace/event_data/2018-11-05-events.csv', '/home/workspace/event_data/2018-11-22-events.csv', '/home/workspace/event_data/2018-11-16-events.csv', '/home/workspace/event_data/2018-11-26-events.csv', '/home/workspace/event_data/2018-11-24-events.csv', '/home/workspace/event_data/2018-11-29-events.csv', '/home/workspace/event_data/2018-11-15-events.csv', '/home/workspace/event_data/2018-11-20-events.csv', '/home/workspace/event_data/2018-11-06-events.csv', '/home/workspace/event_data/2018-11-18-events.csv', '/home/workspace/event_data/2018-11-21-events.csv', '/home/workspace/event_data/2018-11-10-events.csv', '/home/workspace/event_data/2018-11-23-events.csv', '/home/workspace/event_data/2018-11-02-events.csv', '/home/workspace/event_data/2018-11-28-events.csv', '/home/workspace/event_data/2018-11-03-events.csv', '/home/workspace/event_data/2018-11-13-events.csv', '/home/workspace/event_data/2018-11-30-events.csv', '/home/workspace/event_data/2018-11-12-events.csv', '/home/workspace/event_data/2018-11-01-events.csv', '/home/workspace/event_data/2018-11-14-events.csv', '/home/workspace/event_data/2018-11-25-events.csv', '/home/workspace/event_data/2018-11-08-events.csv', '/home/workspace/event_data/2018-11-17-events.csv', '/home/workspace/event_data/2018-11-11-events.csv']\n"
     ]
    },
    {
     "data": {
      "text/plain": [
       "30"
      ]
     },
     "execution_count": 2,
     "metadata": {},
     "output_type": "execute_result"
    }
   ],
   "source": [
    "# checking your current working directory\n",
    "print(os.getcwd())\n",
    "\n",
    "# Get your current folder and subfolder event data\n",
    "filepath = os.getcwd() + '/event_data'\n",
    "\n",
    "# Create a for loop to create a list of files and collect each filepath\n",
    "for root, dirs, files in os.walk(filepath):\n",
    "    # Ignore the file in this directory \n",
    "    if \".ipynb_checkpoints\" in root:\n",
    "        continue\n",
    "    \n",
    "    # join the file path and roots with the subdirectories using glob\n",
    "    file_path_list = glob.glob(os.path.join(root,'*'))\n",
    "\n",
    "print(file_path_list)\n",
    "len(file_path_list)"
   ]
  },
  {
   "cell_type": "markdown",
   "metadata": {
    "editable": true
   },
   "source": [
    "#### Processing the files to create the data file csv that will be used for Apache Casssandra tables"
   ]
  },
  {
   "cell_type": "code",
   "execution_count": 3,
   "metadata": {
    "editable": true
   },
   "outputs": [
    {
     "name": "stdout",
     "output_type": "stream",
     "text": [
      "8056\n"
     ]
    }
   ],
   "source": [
    "# initiating an empty list of rows that will be generated from each file\n",
    "full_data_rows_list = [] \n",
    "    \n",
    "# for every filepath in the file path list \n",
    "for f in file_path_list:\n",
    "\n",
    "# reading csv file \n",
    "    with open(f, 'r', encoding = 'utf8', newline='') as csvfile: \n",
    "        # creating a csv reader object \n",
    "        csvreader = csv.reader(csvfile) \n",
    "        next(csvreader)\n",
    "        \n",
    " # extracting each data row one by one and append it        \n",
    "        for line in csvreader:\n",
    "            #print(line)\n",
    "            full_data_rows_list.append(line) \n",
    "            \n",
    "print(len(full_data_rows_list))\n",
    "#print(full_data_rows_list)\n",
    "\n",
    "# creating a smaller event data csv file called event_datafile_full csv that will be used to insert data into the \\\n",
    "# Apache Cassandra tables\n",
    "csv.register_dialect('myDialect', quoting=csv.QUOTE_ALL, skipinitialspace=True)\n",
    "\n",
    "with open('event_datafile_new.csv', 'w', encoding = 'utf8', newline='') as f:\n",
    "    writer = csv.writer(f, dialect='myDialect')\n",
    "    writer.writerow(['artist','firstName','gender','itemInSession','lastName','length',\\\n",
    "                'level','location','sessionId','song','userId'])\n",
    "    for row in full_data_rows_list:\n",
    "        if (row[0] == ''):\n",
    "            continue\n",
    "        writer.writerow((row[0], row[2], row[3], row[4], row[5], row[6], row[7], row[8], row[12], row[13], row[16]))\n"
   ]
  },
  {
   "cell_type": "code",
   "execution_count": 4,
   "metadata": {
    "editable": true
   },
   "outputs": [
    {
     "name": "stdout",
     "output_type": "stream",
     "text": [
      "6821\n"
     ]
    }
   ],
   "source": [
    "# check the number of rows in your csv file\n",
    "with open('event_datafile_new.csv', 'r', encoding = 'utf8') as f:\n",
    "    print(sum(1 for line in f))"
   ]
  },
  {
   "cell_type": "markdown",
   "metadata": {
    "editable": true
   },
   "source": [
    "## Data exploration"
   ]
  },
  {
   "cell_type": "markdown",
   "metadata": {
    "editable": true
   },
   "source": [
    "Import the dataset and take a look"
   ]
  },
  {
   "cell_type": "code",
   "execution_count": 5,
   "metadata": {
    "editable": true
   },
   "outputs": [
    {
     "data": {
      "text/html": [
       "<div>\n",
       "<style scoped>\n",
       "    .dataframe tbody tr th:only-of-type {\n",
       "        vertical-align: middle;\n",
       "    }\n",
       "\n",
       "    .dataframe tbody tr th {\n",
       "        vertical-align: top;\n",
       "    }\n",
       "\n",
       "    .dataframe thead th {\n",
       "        text-align: right;\n",
       "    }\n",
       "</style>\n",
       "<table border=\"1\" class=\"dataframe\">\n",
       "  <thead>\n",
       "    <tr style=\"text-align: right;\">\n",
       "      <th></th>\n",
       "      <th>artist</th>\n",
       "      <th>firstName</th>\n",
       "      <th>gender</th>\n",
       "      <th>itemInSession</th>\n",
       "      <th>lastName</th>\n",
       "      <th>length</th>\n",
       "      <th>level</th>\n",
       "      <th>location</th>\n",
       "      <th>sessionId</th>\n",
       "      <th>song</th>\n",
       "      <th>userId</th>\n",
       "    </tr>\n",
       "  </thead>\n",
       "  <tbody>\n",
       "    <tr>\n",
       "      <th>0</th>\n",
       "      <td>Barry Tuckwell/Academy of St Martin-in-the-Fie...</td>\n",
       "      <td>Mohammad</td>\n",
       "      <td>M</td>\n",
       "      <td>0</td>\n",
       "      <td>Rodriguez</td>\n",
       "      <td>277.15873</td>\n",
       "      <td>paid</td>\n",
       "      <td>Sacramento--Roseville--Arden-Arcade, CA</td>\n",
       "      <td>961</td>\n",
       "      <td>Horn Concerto No. 4 in E flat K495: II. Romanc...</td>\n",
       "      <td>88</td>\n",
       "    </tr>\n",
       "    <tr>\n",
       "      <th>1</th>\n",
       "      <td>Jimi Hendrix</td>\n",
       "      <td>Mohammad</td>\n",
       "      <td>M</td>\n",
       "      <td>1</td>\n",
       "      <td>Rodriguez</td>\n",
       "      <td>239.82975</td>\n",
       "      <td>paid</td>\n",
       "      <td>Sacramento--Roseville--Arden-Arcade, CA</td>\n",
       "      <td>961</td>\n",
       "      <td>Woodstock Inprovisation</td>\n",
       "      <td>88</td>\n",
       "    </tr>\n",
       "    <tr>\n",
       "      <th>2</th>\n",
       "      <td>Building 429</td>\n",
       "      <td>Mohammad</td>\n",
       "      <td>M</td>\n",
       "      <td>2</td>\n",
       "      <td>Rodriguez</td>\n",
       "      <td>300.61669</td>\n",
       "      <td>paid</td>\n",
       "      <td>Sacramento--Roseville--Arden-Arcade, CA</td>\n",
       "      <td>961</td>\n",
       "      <td>Majesty (LP Version)</td>\n",
       "      <td>88</td>\n",
       "    </tr>\n",
       "    <tr>\n",
       "      <th>3</th>\n",
       "      <td>The B-52's</td>\n",
       "      <td>Gianna</td>\n",
       "      <td>F</td>\n",
       "      <td>0</td>\n",
       "      <td>Jones</td>\n",
       "      <td>321.54077</td>\n",
       "      <td>free</td>\n",
       "      <td>New York-Newark-Jersey City, NY-NJ-PA</td>\n",
       "      <td>107</td>\n",
       "      <td>Love Shack</td>\n",
       "      <td>38</td>\n",
       "    </tr>\n",
       "    <tr>\n",
       "      <th>4</th>\n",
       "      <td>Die Mooskirchner</td>\n",
       "      <td>Gianna</td>\n",
       "      <td>F</td>\n",
       "      <td>1</td>\n",
       "      <td>Jones</td>\n",
       "      <td>169.29914</td>\n",
       "      <td>free</td>\n",
       "      <td>New York-Newark-Jersey City, NY-NJ-PA</td>\n",
       "      <td>107</td>\n",
       "      <td>Frisch und g'sund</td>\n",
       "      <td>38</td>\n",
       "    </tr>\n",
       "  </tbody>\n",
       "</table>\n",
       "</div>"
      ],
      "text/plain": [
       "                                              artist firstName gender  \\\n",
       "0  Barry Tuckwell/Academy of St Martin-in-the-Fie...  Mohammad      M   \n",
       "1                                       Jimi Hendrix  Mohammad      M   \n",
       "2                                       Building 429  Mohammad      M   \n",
       "3                                         The B-52's    Gianna      F   \n",
       "4                                   Die Mooskirchner    Gianna      F   \n",
       "\n",
       "   itemInSession   lastName     length level  \\\n",
       "0              0  Rodriguez  277.15873  paid   \n",
       "1              1  Rodriguez  239.82975  paid   \n",
       "2              2  Rodriguez  300.61669  paid   \n",
       "3              0      Jones  321.54077  free   \n",
       "4              1      Jones  169.29914  free   \n",
       "\n",
       "                                  location  sessionId  \\\n",
       "0  Sacramento--Roseville--Arden-Arcade, CA        961   \n",
       "1  Sacramento--Roseville--Arden-Arcade, CA        961   \n",
       "2  Sacramento--Roseville--Arden-Arcade, CA        961   \n",
       "3    New York-Newark-Jersey City, NY-NJ-PA        107   \n",
       "4    New York-Newark-Jersey City, NY-NJ-PA        107   \n",
       "\n",
       "                                                song  userId  \n",
       "0  Horn Concerto No. 4 in E flat K495: II. Romanc...      88  \n",
       "1                            Woodstock Inprovisation      88  \n",
       "2                               Majesty (LP Version)      88  \n",
       "3                                         Love Shack      38  \n",
       "4                                  Frisch und g'sund      38  "
      ]
     },
     "execution_count": 5,
     "metadata": {},
     "output_type": "execute_result"
    }
   ],
   "source": [
    "df = pd.read_csv('event_datafile_new.csv')\n",
    "df.head()\n"
   ]
  },
  {
   "cell_type": "code",
   "execution_count": 6,
   "metadata": {
    "editable": true
   },
   "outputs": [
    {
     "data": {
      "text/html": [
       "<div>\n",
       "<style scoped>\n",
       "    .dataframe tbody tr th:only-of-type {\n",
       "        vertical-align: middle;\n",
       "    }\n",
       "\n",
       "    .dataframe tbody tr th {\n",
       "        vertical-align: top;\n",
       "    }\n",
       "\n",
       "    .dataframe thead th {\n",
       "        text-align: right;\n",
       "    }\n",
       "</style>\n",
       "<table border=\"1\" class=\"dataframe\">\n",
       "  <thead>\n",
       "    <tr style=\"text-align: right;\">\n",
       "      <th></th>\n",
       "      <th>artist</th>\n",
       "      <th>firstName</th>\n",
       "      <th>gender</th>\n",
       "      <th>itemInSession</th>\n",
       "      <th>lastName</th>\n",
       "      <th>length</th>\n",
       "      <th>level</th>\n",
       "      <th>location</th>\n",
       "      <th>sessionId</th>\n",
       "      <th>song</th>\n",
       "      <th>userId</th>\n",
       "    </tr>\n",
       "  </thead>\n",
       "  <tbody>\n",
       "    <tr>\n",
       "      <th>441</th>\n",
       "      <td>Pixies</td>\n",
       "      <td>Ava</td>\n",
       "      <td>F</td>\n",
       "      <td>1</td>\n",
       "      <td>Robinson</td>\n",
       "      <td>89.36444</td>\n",
       "      <td>free</td>\n",
       "      <td>New Haven-Milford, CT</td>\n",
       "      <td>338</td>\n",
       "      <td>Build High</td>\n",
       "      <td>50</td>\n",
       "    </tr>\n",
       "    <tr>\n",
       "      <th>442</th>\n",
       "      <td>The Roots / Jack Davey</td>\n",
       "      <td>Ava</td>\n",
       "      <td>F</td>\n",
       "      <td>2</td>\n",
       "      <td>Robinson</td>\n",
       "      <td>155.95057</td>\n",
       "      <td>free</td>\n",
       "      <td>New Haven-Milford, CT</td>\n",
       "      <td>338</td>\n",
       "      <td>Atonement</td>\n",
       "      <td>50</td>\n",
       "    </tr>\n",
       "    <tr>\n",
       "      <th>443</th>\n",
       "      <td>Mike And The Mechanics</td>\n",
       "      <td>Ava</td>\n",
       "      <td>F</td>\n",
       "      <td>3</td>\n",
       "      <td>Robinson</td>\n",
       "      <td>275.12118</td>\n",
       "      <td>free</td>\n",
       "      <td>New Haven-Milford, CT</td>\n",
       "      <td>338</td>\n",
       "      <td>A Beggar On A Beach Of Gold</td>\n",
       "      <td>50</td>\n",
       "    </tr>\n",
       "    <tr>\n",
       "      <th>444</th>\n",
       "      <td>Faithless</td>\n",
       "      <td>Ava</td>\n",
       "      <td>F</td>\n",
       "      <td>4</td>\n",
       "      <td>Robinson</td>\n",
       "      <td>495.30730</td>\n",
       "      <td>free</td>\n",
       "      <td>New Haven-Milford, CT</td>\n",
       "      <td>338</td>\n",
       "      <td>Music Matters (Mark Knight Dub)</td>\n",
       "      <td>50</td>\n",
       "    </tr>\n",
       "  </tbody>\n",
       "</table>\n",
       "</div>"
      ],
      "text/plain": [
       "                     artist firstName gender  itemInSession  lastName  \\\n",
       "441                  Pixies       Ava      F              1  Robinson   \n",
       "442  The Roots / Jack Davey       Ava      F              2  Robinson   \n",
       "443  Mike And The Mechanics       Ava      F              3  Robinson   \n",
       "444               Faithless       Ava      F              4  Robinson   \n",
       "\n",
       "        length level               location  sessionId  \\\n",
       "441   89.36444  free  New Haven-Milford, CT        338   \n",
       "442  155.95057  free  New Haven-Milford, CT        338   \n",
       "443  275.12118  free  New Haven-Milford, CT        338   \n",
       "444  495.30730  free  New Haven-Milford, CT        338   \n",
       "\n",
       "                                song  userId  \n",
       "441                       Build High      50  \n",
       "442                        Atonement      50  \n",
       "443      A Beggar On A Beach Of Gold      50  \n",
       "444  Music Matters (Mark Knight Dub)      50  "
      ]
     },
     "execution_count": 6,
     "metadata": {},
     "output_type": "execute_result"
    }
   ],
   "source": [
    "# Check query 1\n",
    "df.loc[df['sessionId'] == 338]"
   ]
  },
  {
   "cell_type": "code",
   "execution_count": 7,
   "metadata": {
    "editable": true
   },
   "outputs": [
    {
     "data": {
      "text/html": [
       "<div>\n",
       "<style scoped>\n",
       "    .dataframe tbody tr th:only-of-type {\n",
       "        vertical-align: middle;\n",
       "    }\n",
       "\n",
       "    .dataframe tbody tr th {\n",
       "        vertical-align: top;\n",
       "    }\n",
       "\n",
       "    .dataframe thead th {\n",
       "        text-align: right;\n",
       "    }\n",
       "</style>\n",
       "<table border=\"1\" class=\"dataframe\">\n",
       "  <thead>\n",
       "    <tr style=\"text-align: right;\">\n",
       "      <th></th>\n",
       "      <th>artist</th>\n",
       "      <th>firstName</th>\n",
       "      <th>gender</th>\n",
       "      <th>itemInSession</th>\n",
       "      <th>lastName</th>\n",
       "      <th>length</th>\n",
       "      <th>level</th>\n",
       "      <th>location</th>\n",
       "      <th>sessionId</th>\n",
       "      <th>song</th>\n",
       "      <th>userId</th>\n",
       "    </tr>\n",
       "  </thead>\n",
       "  <tbody>\n",
       "    <tr>\n",
       "      <th>4704</th>\n",
       "      <td>Down To The Bone</td>\n",
       "      <td>Sylvie</td>\n",
       "      <td>F</td>\n",
       "      <td>0</td>\n",
       "      <td>Cruz</td>\n",
       "      <td>333.76608</td>\n",
       "      <td>free</td>\n",
       "      <td>Washington-Arlington-Alexandria, DC-VA-MD-WV</td>\n",
       "      <td>182</td>\n",
       "      <td>Keep On Keepin' On</td>\n",
       "      <td>10</td>\n",
       "    </tr>\n",
       "    <tr>\n",
       "      <th>4705</th>\n",
       "      <td>Three Drives</td>\n",
       "      <td>Sylvie</td>\n",
       "      <td>F</td>\n",
       "      <td>1</td>\n",
       "      <td>Cruz</td>\n",
       "      <td>411.63710</td>\n",
       "      <td>free</td>\n",
       "      <td>Washington-Arlington-Alexandria, DC-VA-MD-WV</td>\n",
       "      <td>182</td>\n",
       "      <td>Greece 2000</td>\n",
       "      <td>10</td>\n",
       "    </tr>\n",
       "    <tr>\n",
       "      <th>4706</th>\n",
       "      <td>Sebastien Tellier</td>\n",
       "      <td>Sylvie</td>\n",
       "      <td>F</td>\n",
       "      <td>2</td>\n",
       "      <td>Cruz</td>\n",
       "      <td>377.73016</td>\n",
       "      <td>free</td>\n",
       "      <td>Washington-Arlington-Alexandria, DC-VA-MD-WV</td>\n",
       "      <td>182</td>\n",
       "      <td>Kilometer</td>\n",
       "      <td>10</td>\n",
       "    </tr>\n",
       "    <tr>\n",
       "      <th>4707</th>\n",
       "      <td>Lonnie Gordon</td>\n",
       "      <td>Sylvie</td>\n",
       "      <td>F</td>\n",
       "      <td>3</td>\n",
       "      <td>Cruz</td>\n",
       "      <td>181.21098</td>\n",
       "      <td>free</td>\n",
       "      <td>Washington-Arlington-Alexandria, DC-VA-MD-WV</td>\n",
       "      <td>182</td>\n",
       "      <td>Catch You Baby (Steve Pitron &amp; Max Sanna Radio...</td>\n",
       "      <td>10</td>\n",
       "    </tr>\n",
       "  </tbody>\n",
       "</table>\n",
       "</div>"
      ],
      "text/plain": [
       "                 artist firstName gender  itemInSession lastName     length  \\\n",
       "4704   Down To The Bone    Sylvie      F              0     Cruz  333.76608   \n",
       "4705       Three Drives    Sylvie      F              1     Cruz  411.63710   \n",
       "4706  Sebastien Tellier    Sylvie      F              2     Cruz  377.73016   \n",
       "4707      Lonnie Gordon    Sylvie      F              3     Cruz  181.21098   \n",
       "\n",
       "     level                                      location  sessionId  \\\n",
       "4704  free  Washington-Arlington-Alexandria, DC-VA-MD-WV        182   \n",
       "4705  free  Washington-Arlington-Alexandria, DC-VA-MD-WV        182   \n",
       "4706  free  Washington-Arlington-Alexandria, DC-VA-MD-WV        182   \n",
       "4707  free  Washington-Arlington-Alexandria, DC-VA-MD-WV        182   \n",
       "\n",
       "                                                   song  userId  \n",
       "4704                                 Keep On Keepin' On      10  \n",
       "4705                                        Greece 2000      10  \n",
       "4706                                          Kilometer      10  \n",
       "4707  Catch You Baby (Steve Pitron & Max Sanna Radio...      10  "
      ]
     },
     "execution_count": 7,
     "metadata": {},
     "output_type": "execute_result"
    }
   ],
   "source": [
    "# Check query 2\n",
    "df.loc[(df[\"userId\"]==10) & (df[\"sessionId\"] == 182)]"
   ]
  },
  {
   "cell_type": "code",
   "execution_count": 8,
   "metadata": {
    "editable": true
   },
   "outputs": [
    {
     "data": {
      "text/html": [
       "<div>\n",
       "<style scoped>\n",
       "    .dataframe tbody tr th:only-of-type {\n",
       "        vertical-align: middle;\n",
       "    }\n",
       "\n",
       "    .dataframe tbody tr th {\n",
       "        vertical-align: top;\n",
       "    }\n",
       "\n",
       "    .dataframe thead th {\n",
       "        text-align: right;\n",
       "    }\n",
       "</style>\n",
       "<table border=\"1\" class=\"dataframe\">\n",
       "  <thead>\n",
       "    <tr style=\"text-align: right;\">\n",
       "      <th></th>\n",
       "      <th>artist</th>\n",
       "      <th>firstName</th>\n",
       "      <th>gender</th>\n",
       "      <th>itemInSession</th>\n",
       "      <th>lastName</th>\n",
       "      <th>length</th>\n",
       "      <th>level</th>\n",
       "      <th>location</th>\n",
       "      <th>sessionId</th>\n",
       "      <th>song</th>\n",
       "      <th>userId</th>\n",
       "    </tr>\n",
       "  </thead>\n",
       "  <tbody>\n",
       "    <tr>\n",
       "      <th>2792</th>\n",
       "      <td>The Black Keys</td>\n",
       "      <td>Tegan</td>\n",
       "      <td>F</td>\n",
       "      <td>25</td>\n",
       "      <td>Levine</td>\n",
       "      <td>196.91057</td>\n",
       "      <td>paid</td>\n",
       "      <td>Portland-South Portland, ME</td>\n",
       "      <td>611</td>\n",
       "      <td>All Hands Against His Own</td>\n",
       "      <td>80</td>\n",
       "    </tr>\n",
       "    <tr>\n",
       "      <th>5135</th>\n",
       "      <td>The Black Keys</td>\n",
       "      <td>Sara</td>\n",
       "      <td>F</td>\n",
       "      <td>31</td>\n",
       "      <td>Johnson</td>\n",
       "      <td>196.91057</td>\n",
       "      <td>paid</td>\n",
       "      <td>Winston-Salem, NC</td>\n",
       "      <td>152</td>\n",
       "      <td>All Hands Against His Own</td>\n",
       "      <td>95</td>\n",
       "    </tr>\n",
       "    <tr>\n",
       "      <th>6298</th>\n",
       "      <td>The Black Keys</td>\n",
       "      <td>Jacqueline</td>\n",
       "      <td>F</td>\n",
       "      <td>50</td>\n",
       "      <td>Lynch</td>\n",
       "      <td>196.91057</td>\n",
       "      <td>paid</td>\n",
       "      <td>Atlanta-Sandy Springs-Roswell, GA</td>\n",
       "      <td>559</td>\n",
       "      <td>All Hands Against His Own</td>\n",
       "      <td>29</td>\n",
       "    </tr>\n",
       "  </tbody>\n",
       "</table>\n",
       "</div>"
      ],
      "text/plain": [
       "              artist   firstName gender  itemInSession lastName     length  \\\n",
       "2792  The Black Keys       Tegan      F             25   Levine  196.91057   \n",
       "5135  The Black Keys        Sara      F             31  Johnson  196.91057   \n",
       "6298  The Black Keys  Jacqueline      F             50    Lynch  196.91057   \n",
       "\n",
       "     level                           location  sessionId  \\\n",
       "2792  paid        Portland-South Portland, ME        611   \n",
       "5135  paid                  Winston-Salem, NC        152   \n",
       "6298  paid  Atlanta-Sandy Springs-Roswell, GA        559   \n",
       "\n",
       "                           song  userId  \n",
       "2792  All Hands Against His Own      80  \n",
       "5135  All Hands Against His Own      95  \n",
       "6298  All Hands Against His Own      29  "
      ]
     },
     "execution_count": 8,
     "metadata": {},
     "output_type": "execute_result"
    }
   ],
   "source": [
    "# Check query 3\n",
    "df.loc[df[\"song\"] == 'All Hands Against His Own']"
   ]
  },
  {
   "cell_type": "markdown",
   "metadata": {
    "editable": true
   },
   "source": [
    "# Part II. Complete the Apache Cassandra coding portion of your project. \n",
    "\n",
    "## Now you are ready to work with the CSV file titled <font color=red>event_datafile_new.csv</font>, located within the Workspace directory.  The event_datafile_new.csv contains the following columns: \n",
    "- artist \n",
    "- firstName of user\n",
    "- gender of user\n",
    "- item number in session\n",
    "- last name of user\n",
    "- length of the song\n",
    "- level (paid or free song)\n",
    "- location of the user\n",
    "- sessionId\n",
    "- song title\n",
    "- userId\n",
    "\n",
    "The image below is a screenshot of what the denormalized data should appear like in the <font color=red>**event_datafile_new.csv**</font> after the code above is run:<br>\n",
    "\n",
    "<img src=\"images/image_event_datafile_new.jpg\">"
   ]
  },
  {
   "cell_type": "markdown",
   "metadata": {
    "editable": true
   },
   "source": [
    "## Begin writing your Apache Cassandra code in the cells below"
   ]
  },
  {
   "cell_type": "markdown",
   "metadata": {
    "editable": true
   },
   "source": [
    "#### Creating a Cluster"
   ]
  },
  {
   "cell_type": "code",
   "execution_count": 9,
   "metadata": {
    "editable": true
   },
   "outputs": [],
   "source": [
    "from cassandra.cluster import Cluster\n",
    "cluster = Cluster()\n",
    "\n",
    "session = cluster.connect()"
   ]
  },
  {
   "cell_type": "markdown",
   "metadata": {
    "editable": true
   },
   "source": [
    "#### Create Keyspace"
   ]
  },
  {
   "cell_type": "code",
   "execution_count": 10,
   "metadata": {
    "editable": true
   },
   "outputs": [],
   "source": [
    "try:\n",
    "    session.execute(\"\"\"\n",
    "        CREATE KEYSPACE IF NOT EXISTS sparkify \n",
    "        WITH REPLICATION = \n",
    "        { 'class' : 'SimpleStrategy', 'replication_factor' : 1 }\n",
    "    \"\"\"\n",
    ")\n",
    "\n",
    "except Exception as e:\n",
    "    print(e)"
   ]
  },
  {
   "cell_type": "markdown",
   "metadata": {
    "editable": true
   },
   "source": [
    "#### Set Keyspace"
   ]
  },
  {
   "cell_type": "code",
   "execution_count": 11,
   "metadata": {
    "editable": true
   },
   "outputs": [],
   "source": [
    "try:\n",
    "    session.set_keyspace('sparkify')\n",
    "except Exception as e:\n",
    "    print(e)\n"
   ]
  },
  {
   "cell_type": "markdown",
   "metadata": {
    "editable": true
   },
   "source": [
    "### Now we need to create tables to run the following queries. Remember, with Apache Cassandra you model the database tables on the queries you want to run."
   ]
  },
  {
   "cell_type": "markdown",
   "metadata": {
    "editable": true
   },
   "source": [
    "## Create queries to ask the following three questions of the data\n",
    "\n",
    "### 1. Give me the artist, song title and song's length in the music app history that was heard during  sessionId = 338, and itemInSession  = 4\n",
    "\n",
    "\n",
    "### 2. Give me only the following: name of artist, song (sorted by itemInSession) and user (first and last name) for userid = 10, sessionid = 182\n",
    "    \n",
    "\n",
    "### 3. Give me every user name (first and last) in my music app history who listened to the song 'All Hands Against His Own'\n",
    "\n",
    "\n"
   ]
  },
  {
   "cell_type": "code",
   "execution_count": 12,
   "metadata": {
    "editable": true
   },
   "outputs": [],
   "source": [
    "# First table: data partitioned per session\n",
    "table_name1 = \"music_table\"\n",
    "\n",
    "# Create table 1\n",
    "# The analytics team wants to retrieve data by session_id and item_in_session. So the first will be the partition key and the second a clustering column.\n",
    "# These two fields together are a unique key for the table.\n",
    "\n",
    "create_query1 = f\"CREATE TABLE IF NOT EXISTS {table_name1}\"\n",
    "create_query1 = create_query1 + \"(session_id int, item_in_session int, artist text, first_name text, gender text, last_name text, length double, level text, location text, song text, user_id int, PRIMARY KEY(session_id, item_in_session))\"\n",
    "try:\n",
    "    session.execute(create_query1)\n",
    "except Exception as e:\n",
    "    print(e)"
   ]
  },
  {
   "cell_type": "code",
   "execution_count": 13,
   "metadata": {
    "editable": true
   },
   "outputs": [],
   "source": [
    "file = 'event_datafile_new.csv'\n",
    "\n",
    "with open(file, encoding = 'utf8') as f:\n",
    "    csvreader = csv.reader(f)\n",
    "    next(csvreader) # skip header\n",
    "    for line in csvreader:\n",
    "        query = f\"INSERT INTO {table_name1} (session_id, item_in_session, artist, length, song)\"\n",
    "        query = query + \" VALUES(%s, %s, %s, %s, %s)\"\n",
    "        session.execute(query, (int(line[8]), int(line[3]),line[0], float(line[5]), line[9]))"
   ]
  },
  {
   "cell_type": "markdown",
   "metadata": {
    "editable": true
   },
   "source": [
    "#### Do a SELECT to verify that the data have been inserted into each table"
   ]
  },
  {
   "cell_type": "code",
   "execution_count": 15,
   "metadata": {
    "editable": true,
    "scrolled": true
   },
   "outputs": [
    {
     "name": "stdout",
     "output_type": "stream",
     "text": [
      "+-----------+---------------------------------+----------+\n",
      "|   Artist  |               Song              |  Length  |\n",
      "+-----------+---------------------------------+----------+\n",
      "| Faithless | Music Matters (Mark Knight Dub) | 495.3073 |\n",
      "+-----------+---------------------------------+----------+\n"
     ]
    }
   ],
   "source": [
    "query1 = f\"select artist, song, length from {table_name1} where session_id=338 and item_in_session=4\"\n",
    "\n",
    "try:\n",
    "    rows = session.execute(query1)\n",
    "except Exception as e:\n",
    "    print(e)\n",
    "    \n",
    "t = PrettyTable(['Artist', 'Song', 'Length'])\n",
    "for row in rows:\n",
    "    t.add_row([row.artist, row.song, row.length])\n",
    "    \n",
    "print(t)"
   ]
  },
  {
   "cell_type": "markdown",
   "metadata": {
    "editable": true
   },
   "source": [
    "## Query 2"
   ]
  },
  {
   "cell_type": "code",
   "execution_count": 16,
   "metadata": {
    "editable": true
   },
   "outputs": [],
   "source": [
    "table_name2 = \"music_per_user_table\"\n",
    "\n",
    "# Create table 2\n",
    "# In this second query the team wants to retrieve data by user_id and session_id, but want also data orderred by item_in_session.\n",
    "# So the partition key will be user_id, session_id and item_in_session will be the first and the second clustering columns.\n",
    "# In this way a user can use session_id in WHERE section and result will appear ordered by item_in_session. \n",
    "\n",
    "create_query2 = f\"CREATE TABLE IF NOT EXISTS {table_name2}\"\n",
    "create_query2 = create_query2 + \"(user_id int, session_id int, item_in_session int, artist text, song text, first_name text, last_name text, PRIMARY KEY((user_id, session_id), item_in_session))\"\n",
    "try:\n",
    "    session.execute(create_query2)\n",
    "except Exception as e:\n",
    "    print(e)\n",
    "                    "
   ]
  },
  {
   "cell_type": "code",
   "execution_count": 17,
   "metadata": {
    "editable": true
   },
   "outputs": [],
   "source": [
    "file = 'event_datafile_new.csv'\n",
    "\n",
    "with open(file, encoding = 'utf8') as f:\n",
    "    csvreader = csv.reader(f)\n",
    "    next(csvreader) # skip header\n",
    "    for line in csvreader:\n",
    "## TO-DO: Assign the INSERT statements into the `query` variable\n",
    "        query = f\"INSERT INTO {table_name2} (user_id, session_id, item_in_session, artist, song, first_name, last_name)\"\n",
    "        query = query + \" VALUES(%s, %s, %s, %s, %s, %s, %s)\"\n",
    "        session.execute(query, (int(line[10]), int(line[8]),int(line[3]), line[0], line[9], line[1], line[4]))"
   ]
  },
  {
   "cell_type": "code",
   "execution_count": 18,
   "metadata": {
    "editable": true
   },
   "outputs": [
    {
     "name": "stdout",
     "output_type": "stream",
     "text": [
      "+-------------------+------------------------------------------------------+------------+-----------+\n",
      "|       Artist      |                         Song                         | First name | Last name |\n",
      "+-------------------+------------------------------------------------------+------------+-----------+\n",
      "|  Down To The Bone |                  Keep On Keepin' On                  |   Sylvie   |    Cruz   |\n",
      "|    Three Drives   |                     Greece 2000                      |   Sylvie   |    Cruz   |\n",
      "| Sebastien Tellier |                      Kilometer                       |   Sylvie   |    Cruz   |\n",
      "|   Lonnie Gordon   | Catch You Baby (Steve Pitron & Max Sanna Radio Edit) |   Sylvie   |    Cruz   |\n",
      "+-------------------+------------------------------------------------------+------------+-----------+\n"
     ]
    }
   ],
   "source": [
    "query2= f\"select artist, song, first_name, last_name from {table_name2} where user_id=10 and session_id=182\"\n",
    "\n",
    "try:\n",
    "    rows = session.execute(query2)\n",
    "except Exception as e:\n",
    "    print(e)\n",
    "    \n",
    "t = PrettyTable(['Artist', 'Song', 'First name', 'Last name'])\n",
    "for row in rows:\n",
    "    t.add_row([row.artist, row.song, row.first_name, row.last_name])\n",
    "    \n",
    "print(t)"
   ]
  },
  {
   "cell_type": "markdown",
   "metadata": {
    "editable": true
   },
   "source": [
    "## Query 3\n"
   ]
  },
  {
   "cell_type": "code",
   "execution_count": 19,
   "metadata": {
    "editable": true
   },
   "outputs": [],
   "source": [
    "table_name3 = \"users_table\"\n",
    "\n",
    "# Create table 3\n",
    "# In this third scenario the team wants to select the user data using the song title.\n",
    "# So, the partition key must be the song field, but it will be not unique. Using only the song as primary key, the user data will be overwritten with the insert queries.\n",
    "# I chose to use the song field in combination with the user_id to create a unique primary key. It's enough for this query, because all I want to know is if a user listened a song.\n",
    "\n",
    "create_query3 = f\"CREATE TABLE IF NOT EXISTS {table_name3}\"\n",
    "create_query3 = create_query3 + \"(song text, user_id int, first_name text, last_name text, PRIMARY KEY(song, user_id))\"\n",
    "try:\n",
    "    session.execute(create_query3)\n",
    "except Exception as e:\n",
    "    print(e)\n",
    "                    "
   ]
  },
  {
   "cell_type": "code",
   "execution_count": 20,
   "metadata": {
    "editable": true
   },
   "outputs": [],
   "source": [
    "file = 'event_datafile_new.csv'\n",
    "\n",
    "with open(file, encoding = 'utf8') as f:\n",
    "    csvreader = csv.reader(f)\n",
    "    next(csvreader) # skip header\n",
    "    for line in csvreader:\n",
    "        query = f\"INSERT INTO {table_name3} (song, user_id, first_name, last_name)\"\n",
    "        query = query + \" VALUES(%s, %s, %s, %s)\"\n",
    "        session.execute(query, (line[9], int(line[10]), line[1], line[4]))"
   ]
  },
  {
   "cell_type": "code",
   "execution_count": 21,
   "metadata": {
    "editable": true
   },
   "outputs": [
    {
     "name": "stdout",
     "output_type": "stream",
     "text": [
      "+------------+-----------+\n",
      "| First name | Last name |\n",
      "+------------+-----------+\n",
      "| Jacqueline |   Lynch   |\n",
      "|   Tegan    |   Levine  |\n",
      "|    Sara    |  Johnson  |\n",
      "+------------+-----------+\n"
     ]
    }
   ],
   "source": [
    "query3= f\"select first_name, last_name from {table_name3} where song='All Hands Against His Own'\"\n",
    "\n",
    "try:\n",
    "    rows = session.execute(query3)\n",
    "except Exception as e:\n",
    "    print(e)\n",
    "    \n",
    "t = PrettyTable(['First name', 'Last name'])\n",
    "for row in rows:\n",
    "    t.add_row([row.first_name, row.last_name])\n",
    "    \n",
    "print(t)"
   ]
  },
  {
   "cell_type": "markdown",
   "metadata": {
    "editable": true
   },
   "source": [
    "### Drop the tables before closing out the sessions"
   ]
  },
  {
   "cell_type": "code",
   "execution_count": 22,
   "metadata": {
    "editable": true
   },
   "outputs": [],
   "source": [
    "query = f\"drop table if exists {table_name1}\"\n",
    "try:\n",
    "    rows = session.execute(query)\n",
    "except Exception as e:\n",
    "    print(e)\n",
    "    \n",
    "query = f\"drop table if exists {table_name2}\"\n",
    "try:\n",
    "    rows = session.execute(query)\n",
    "except Exception as e:\n",
    "    print(e)\n",
    "    \n",
    "query = f\"drop table if exists {table_name3}\"\n",
    "try:\n",
    "    rows = session.execute(query)\n",
    "except Exception as e:\n",
    "    print(e)"
   ]
  },
  {
   "cell_type": "markdown",
   "metadata": {
    "editable": true
   },
   "source": [
    "### Close the session and cluster connection¶"
   ]
  },
  {
   "cell_type": "code",
   "execution_count": 23,
   "metadata": {
    "editable": true
   },
   "outputs": [],
   "source": [
    "session.shutdown()\n",
    "cluster.shutdown()"
   ]
  },
  {
   "cell_type": "code",
   "execution_count": null,
   "metadata": {
    "editable": true
   },
   "outputs": [],
   "source": []
  }
 ],
 "metadata": {
  "kernelspec": {
   "display_name": "Python 3",
   "language": "python",
   "name": "python3"
  },
  "language_info": {
   "codemirror_mode": {
    "name": "ipython",
    "version": 3
   },
   "file_extension": ".py",
   "mimetype": "text/x-python",
   "name": "python",
   "nbconvert_exporter": "python",
   "pygments_lexer": "ipython3",
   "version": "3.6.3"
  }
 },
 "nbformat": 4,
 "nbformat_minor": 4
}
